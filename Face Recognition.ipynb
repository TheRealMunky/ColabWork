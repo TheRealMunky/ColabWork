{
  "nbformat": 4,
  "nbformat_minor": 0,
  "metadata": {
    "colab": {
      "provenance": [],
      "mount_file_id": "1jNM6tf8wGNoCyYyA1-4G6FTxDsA94uq6",
      "authorship_tag": "ABX9TyNF+UMZ1JqXyeAy2w3RNnrj",
      "include_colab_link": true
    },
    "kernelspec": {
      "name": "python3",
      "display_name": "Python 3"
    },
    "language_info": {
      "name": "python"
    }
  },
  "cells": [
    {
      "cell_type": "markdown",
      "metadata": {
        "id": "view-in-github",
        "colab_type": "text"
      },
      "source": [
        "<a href=\"https://colab.research.google.com/github/TheRealMunky/ColabWork/blob/main/Face%20Recognition.ipynb\" target=\"_parent\"><img src=\"https://colab.research.google.com/assets/colab-badge.svg\" alt=\"Open In Colab\"/></a>"
      ]
    },
    {
      "cell_type": "code",
      "execution_count": null,
      "metadata": {
        "id": "Behv1dsL8cYd"
      },
      "outputs": [],
      "source": [
        "import cv2\n",
        "import numpy as np\n",
        "import os\n",
        "from sklearn.svm import SVC as svc\n",
        "from sklearn.metrics import accuracy_score as acc\n",
        "from sklearn.metrics import confusion_matrix as cm\n",
        "import matplotlib.pyplot as plt\n",
        "from skimage.feature import local_binary_pattern as lbp"
      ]
    },
    {
      "cell_type": "code",
      "source": [
        "face_cascade = cv2.CascadeClassifier(\"/content/haarcascade_frontalface_default.xml\")"
      ],
      "metadata": {
        "id": "CLiL0AW39snD"
      },
      "execution_count": 4,
      "outputs": []
    },
    {
      "cell_type": "code",
      "source": [
        "def load_faces(folder_path):\n",
        "  images=[]\n",
        "  labels=[]\n",
        "  for label in os.listdir(folder_path):\n",
        "    label_path = os.path.join(folder_path, label)\n",
        "    if os.path.isdir(label_path):\n",
        "      for img_file in os.listdir(label_path):\n",
        "        img_path = os.path.join(label_path, img_file)\n",
        "        img = cv2.imread(img_path, cv2.IMREAD_GRAYSCALE)\n",
        "        if img is not None:\n",
        "          # Detect Face\n",
        "          faces = face_cascade.detectMultiScale(img, scaleFactor=1.1, minNeighbors=5, minSize=(30,30))\n",
        "          for (x,y,w,h) in faces:\n",
        "            face_region = img[y:y+h, x:x+w]\n",
        "            images.append(face_region)\n",
        "            labels.append(label)\n",
        "  return images, labels"
      ],
      "metadata": {
        "id": "-n21U0LOCTVt"
      },
      "execution_count": 6,
      "outputs": []
    },
    {
      "cell_type": "code",
      "source": [
        "train_folder_path = \"/content/train\"\n",
        "test_folder_path = \"/content/test\""
      ],
      "metadata": {
        "id": "Xanxk9GODyC9"
      },
      "execution_count": 7,
      "outputs": []
    },
    {
      "cell_type": "code",
      "source": [
        "x_train, y_train = load_faces(train_folder_path)\n",
        "x_test, y_test = load_faces(test_folder_path)"
      ],
      "metadata": {
        "id": "jW7IzaiZEaPL"
      },
      "execution_count": 8,
      "outputs": []
    },
    {
      "cell_type": "code",
      "source": [
        "from sklearn.preprocessing import StandardScaler as ss\n",
        "from sklearn.pipeline import make_pipeline as mp\n",
        "\n",
        "# Preprocess\n",
        "def preprocess_images(images):\n",
        "  preprocessed_images = []\n",
        "  for img in images:\n",
        "    # Apply histogram equalisation to improve contrast\n",
        "    img = cv2.equalizeHist(img)\n",
        "    preprocessed_images.append(img)\n",
        "  return preprocessed_images"
      ],
      "metadata": {
        "id": "78JdNsBhEk-z"
      },
      "execution_count": 9,
      "outputs": []
    },
    {
      "cell_type": "code",
      "source": [
        "#Define parameters for LBP\n",
        "\n"
      ],
      "metadata": {
        "id": "M5eOl9adFGps"
      },
      "execution_count": null,
      "outputs": []
    }
  ]
}